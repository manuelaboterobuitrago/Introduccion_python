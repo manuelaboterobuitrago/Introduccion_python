{
 "cells": [
  {
   "cell_type": "markdown",
   "metadata": {},
   "source": [
    "# Operaciones básicas con python. \n",
    "En esta sección se evidencia como el entorno de Python funciona como una calculadora básica, se introduce una expresión y este calculará y mostrará el resultado. La sintaxis es bastante sencilla, utilizando los operadores + para la suma, - para la resta, * para la multiplicación y / para la división.\n",
    "### Ejemplo"
   ]
  },
  {
   "cell_type": "code",
   "execution_count": 8,
   "metadata": {},
   "outputs": [
    {
     "name": "stdout",
     "output_type": "stream",
     "text": [
      "45\n",
      "18\n",
      "5488\n",
      "0.23469387755102042\n"
     ]
    }
   ],
   "source": [
    "suma = 2 + 43\n",
    "print(suma)\n",
    "resta = 30 - 12\n",
    "print(resta)\n",
    "producto = 56 * 98\n",
    "print(producto)\n",
    "division = 23 / 98\n",
    "print(division)"
   ]
  },
  {
   "cell_type": "code",
   "execution_count": 9,
   "metadata": {},
   "outputs": [
    {
     "data": {
      "text/plain": [
       "234256"
      ]
     },
     "execution_count": 9,
     "metadata": {},
     "output_type": "execute_result"
    }
   ],
   "source": [
    "22 ** 4"
   ]
  },
  {
   "cell_type": "markdown",
   "metadata": {},
   "source": [
    "### Otras operaciones.\n",
    "En Python, también podemos calcular la potencia de un número utilizando dos asteriscos (**)."
   ]
  },
  {
   "cell_type": "code",
   "execution_count": 11,
   "metadata": {},
   "outputs": [
    {
     "name": "stdout",
     "output_type": "stream",
     "text": [
      "10648\n"
     ]
    }
   ],
   "source": [
    "potencia = 22 ** 3\n",
    "print(potencia)"
   ]
  },
  {
   "cell_type": "markdown",
   "metadata": {},
   "source": [
    "Sí se quisera hacer operaciones más sofisticadas podriamos usar el modulo math. Para esto se debe importar el modulo math.\n",
    "Sobre importar módulos hay una sección un poco más detallada en el notebook de \"funciones_modulos\". "
   ]
  },
  {
   "cell_type": "code",
   "execution_count": 20,
   "metadata": {},
   "outputs": [
    {
     "name": "stdout",
     "output_type": "stream",
     "text": [
      "6.708203932499369\n",
      "10648.0\n",
      "2.8903717578961645\n",
      "3.7394141026986953\n"
     ]
    }
   ],
   "source": [
    "import math\n",
    "# En este ejemplo, se devuelve la raíz cuadrada de la suma que se realizó previamente.\n",
    "print(math.sqrt(suma))\n",
    "# También podríamos realizar la potenciación utilizando el siguiente método:\n",
    "print(math.pow(22,3)) \n",
    "# Acá devuelve el logaritmo natural de x (base e)\n",
    "print(math.log(resta))\n",
    " # Devuelve el logaritmo base 10 de x\n",
    "print(math.log10(producto)) \n"
   ]
  }
 ],
 "metadata": {
  "kernelspec": {
   "display_name": "Python 3",
   "language": "python",
   "name": "python3"
  },
  "language_info": {
   "codemirror_mode": {
    "name": "ipython",
    "version": 3
   },
   "file_extension": ".py",
   "mimetype": "text/x-python",
   "name": "python",
   "nbconvert_exporter": "python",
   "pygments_lexer": "ipython3",
   "version": "3.12.4"
  }
 },
 "nbformat": 4,
 "nbformat_minor": 2
}
