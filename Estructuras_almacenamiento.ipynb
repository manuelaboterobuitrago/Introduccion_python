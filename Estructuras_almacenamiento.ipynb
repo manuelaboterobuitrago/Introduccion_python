{
 "cells": [
  {
   "cell_type": "markdown",
   "metadata": {},
   "source": [
    "# Estructuras básicas de almacenamiento\n",
    " Estas estructuras permiten almacenar y manipular datos de diferentes tipos de manera eficiente. Aquí se describen las estructuras más comunes:\n",
    " ## 1. Listas\n",
    " Las listas son colecciones ordenadas y mutables de elementos. Puedes almacenar elementos de diferentes tipos en una sola lista, y puedes modificar, agregar o eliminar elementos después de crearla. Esta puede ser escrita como una lista de valores separados por coma (ítems) entre corchetes. \n",
    "\n"
   ]
  },
  {
   "cell_type": "code",
   "execution_count": 39,
   "metadata": {},
   "outputs": [
    {
     "name": "stdout",
     "output_type": "stream",
     "text": [
      "[1, 2, 3, 'cuatro', 35.8, 234.68]\n",
      "[1, 2, 'siete', 'cuatro', 35.8, 234.68]\n"
     ]
    }
   ],
   "source": [
    "## Crear una lista\n",
    "lista = [1, 2, 3, 'cuatro', 35.8, 234.68]\n",
    "print(lista)\n",
    "#Para acceder a un elemento de una lista, los índices comienzan en 0 y van hasta n-1. \n",
    "# Esto significa que para acceder al primer elemento de la lista, debes usar el índice 0, no 1.\n",
    "lista[3]\n",
    "# Para modificar un elemento de la lista, simplemente accedes a él mediante su índice y le asignas el nuevo valor.\n",
    "lista[2] = 'siete'\n",
    "print(lista)\n",
    "# Ten en cuenta que la lista ha sido modificada en la posición 2, \n",
    "# lo que corresponde al tercer elemento, ya que los índices comienzan en 0.\n"
   ]
  },
  {
   "cell_type": "markdown",
   "metadata": {},
   "source": [
    "Algunos métodos comúnes para las listas"
   ]
  },
  {
   "cell_type": "code",
   "execution_count": 41,
   "metadata": {},
   "outputs": [
    {
     "name": "stdout",
     "output_type": "stream",
     "text": [
      "[1, 2, 'siete', 'cuatro', 35.8, 234.68, 'nueve']\n"
     ]
    }
   ],
   "source": [
    "#Agrega un elemento al final de la lista\n",
    "lista.append('nueve')\n",
    "print(lista)\n"
   ]
  },
  {
   "cell_type": "code",
   "execution_count": 45,
   "metadata": {},
   "outputs": [
    {
     "name": "stdout",
     "output_type": "stream",
     "text": [
      "['gris', 1, 2, 'siete', 'cuatro', 35.8, 234.68]\n"
     ]
    }
   ],
   "source": [
    "#Elimina el elemento con el valor especificado\n",
    "lista.remove('nueve')\n",
    "print(lista)\n"
   ]
  },
  {
   "cell_type": "code",
   "execution_count": 47,
   "metadata": {},
   "outputs": [
    {
     "name": "stdout",
     "output_type": "stream",
     "text": [
      "['gris', 1, 2, 'siete', 'cuatro', 35.8, 234.68]\n"
     ]
    }
   ],
   "source": [
    "## Insertar un elemento en una posición de a lista\n",
    "lista.insert(0,'gris')\n",
    "print(lista)"
   ]
  },
  {
   "cell_type": "code",
   "execution_count": 48,
   "metadata": {},
   "outputs": [
    {
     "data": {
      "text/plain": [
       "7"
      ]
     },
     "execution_count": 48,
     "metadata": {},
     "output_type": "execute_result"
    }
   ],
   "source": [
    "#Longitud de la lista\n",
    "len(lista)"
   ]
  },
  {
   "cell_type": "markdown",
   "metadata": {},
   "source": [
    "## 2. Tuplas\n",
    "Las tuplas son colecciones ordenadas e inmutables de elementos. Una vez que una tupla es creada, no se puede modificar. Son útiles cuando quieres asegurar que los datos no cambien. Esta puede ser escrita como una lista de valores separados por coma (ítems) entre paréntesis. \n"
   ]
  },
  {
   "cell_type": "code",
   "execution_count": 50,
   "metadata": {},
   "outputs": [
    {
     "name": "stdout",
     "output_type": "stream",
     "text": [
      "('31245532', 'Medellín', '22')\n"
     ]
    }
   ],
   "source": [
    "tupla = ('31245532','Medellín', '22',)\n",
    "print(tupla)"
   ]
  },
  {
   "cell_type": "code",
   "execution_count": 51,
   "metadata": {},
   "outputs": [
    {
     "data": {
      "text/plain": [
       "'31245532'"
      ]
     },
     "execution_count": 51,
     "metadata": {},
     "output_type": "execute_result"
    }
   ],
   "source": [
    "## El acceso es igual como se hizo en la lista\n",
    "tupla[0]"
   ]
  },
  {
   "cell_type": "markdown",
   "metadata": {},
   "source": [
    "Las tuplas no tienen métodos para modificar sus elementos porque son inmutables, lo que significa que no se pueden cambiar una vez creadas, a diferencia de las listas que sí permiten modificaciones."
   ]
  },
  {
   "cell_type": "markdown",
   "metadata": {},
   "source": [
    "##  3. Set\n",
    "Los conjuntos son colecciones desordenadas de elementos únicos. No permiten elementos duplicados y no están indexados, por lo que no se puede acceder a sus elementos por posición.Esta puede ser escrita como una lista de valores separados por coma (ítems) entre llaves. "
   ]
  },
  {
   "cell_type": "code",
   "execution_count": 58,
   "metadata": {},
   "outputs": [
    {
     "name": "stdout",
     "output_type": "stream",
     "text": [
      "{'rosa', 'verde', 'gris', 'azul'}\n"
     ]
    }
   ],
   "source": [
    "conjunto = {'azul', 'gris','rosa','verde'}\n",
    "print(conjunto)"
   ]
  },
  {
   "cell_type": "code",
   "execution_count": 62,
   "metadata": {},
   "outputs": [
    {
     "data": {
      "text/plain": [
       "False"
      ]
     },
     "execution_count": 62,
     "metadata": {},
     "output_type": "execute_result"
    }
   ],
   "source": [
    "#El acceso a elementos mediante un índice no está permitido. En su lugar, se usan operaciones como IN para \n",
    "# verificar la existencia de un elemento.\n",
    "\n",
    "4 in conjunto\n",
    "\n",
    "#Estamos verificando si el número cuatro está presente en el conjunto. Al ejecutarlo, el resultado es False, \n",
    "#ya que efectivamente no existe en dicho conjunto."
   ]
  },
  {
   "cell_type": "markdown",
   "metadata": {},
   "source": [
    "### Métodos comúnes"
   ]
  },
  {
   "cell_type": "code",
   "execution_count": 67,
   "metadata": {},
   "outputs": [
    {
     "name": "stdout",
     "output_type": "stream",
     "text": [
      "{'rosa', 6, 'verde', 60, 'gris', 'azul'}\n"
     ]
    }
   ],
   "source": [
    "# Agrega un elemento al conjunto\n",
    "conjunto.add(6)\n",
    "print(conjunto)\n"
   ]
  },
  {
   "cell_type": "code",
   "execution_count": 69,
   "metadata": {},
   "outputs": [
    {
     "name": "stdout",
     "output_type": "stream",
     "text": [
      "{'rosa', 'verde', 'gris', 'azul'}\n"
     ]
    }
   ],
   "source": [
    "# Para eliminar un elemento\n",
    "conjunto.remove(6)\n",
    "print(conjunto)"
   ]
  },
  {
   "cell_type": "markdown",
   "metadata": {},
   "source": [
    "## 4. Diccionarios\n",
    "Los diccionarios son colecciones desordenadas de pares clave-valor. Cada clave es única y se usa para acceder a su valor asociado. "
   ]
  },
  {
   "cell_type": "code",
   "execution_count": 10,
   "metadata": {},
   "outputs": [
    {
     "name": "stdout",
     "output_type": "stream",
     "text": [
      "{'nombre': 'Manuela', 'edad': 22, 'ciudad': 'Medellín'}\n"
     ]
    }
   ],
   "source": [
    "primer_dict = {'nombre': 'Manuela', 'edad': 22, 'ciudad': 'Medellín'}\n",
    "print(primer_dict)\n"
   ]
  },
  {
   "cell_type": "code",
   "execution_count": 11,
   "metadata": {},
   "outputs": [
    {
     "data": {
      "text/plain": [
       "22"
      ]
     },
     "execution_count": 11,
     "metadata": {},
     "output_type": "execute_result"
    }
   ],
   "source": [
    "## Acesso\n",
    "primer_dict['edad']"
   ]
  },
  {
   "cell_type": "code",
   "execution_count": 12,
   "metadata": {},
   "outputs": [
    {
     "name": "stdout",
     "output_type": "stream",
     "text": [
      "{'nombre': 'Manuela', 'edad': 22, 'ciudad': 'Marinilla'}\n"
     ]
    }
   ],
   "source": [
    "# Modificación\n",
    "primer_dict['ciudad'] = 'Marinilla'\n",
    "print(primer_dict)"
   ]
  },
  {
   "cell_type": "code",
   "execution_count": 13,
   "metadata": {},
   "outputs": [
    {
     "name": "stdout",
     "output_type": "stream",
     "text": [
      "Marinilla\n"
     ]
    }
   ],
   "source": [
    "## Elimina un elemento cuadno se indica la clave \n",
    "eliminar = primer_dict.pop('ciudad')\n",
    "print(eliminar)\n"
   ]
  },
  {
   "cell_type": "code",
   "execution_count": 14,
   "metadata": {},
   "outputs": [
    {
     "name": "stdout",
     "output_type": "stream",
     "text": [
      "dict_keys(['nombre', 'edad'])\n"
     ]
    }
   ],
   "source": [
    "## Devuelve una lista de las claves\n",
    "clave = primer_dict.keys()\n",
    "print(clave)"
   ]
  }
 ],
 "metadata": {
  "kernelspec": {
   "display_name": "Python 3",
   "language": "python",
   "name": "python3"
  },
  "language_info": {
   "codemirror_mode": {
    "name": "ipython",
    "version": 3
   },
   "file_extension": ".py",
   "mimetype": "text/x-python",
   "name": "python",
   "nbconvert_exporter": "python",
   "pygments_lexer": "ipython3",
   "version": "3.12.4"
  }
 },
 "nbformat": 4,
 "nbformat_minor": 2
}
