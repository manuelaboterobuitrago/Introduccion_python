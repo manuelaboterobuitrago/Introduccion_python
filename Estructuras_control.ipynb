{
 "cells": [
  {
   "cell_type": "markdown",
   "metadata": {},
   "source": [
    "# Estructuras de control\n",
    "Permiten modificar el flujo de la ejecución de un conjunto de instrucciones. "
   ]
  },
  {
   "cell_type": "markdown",
   "metadata": {},
   "source": [
    "## 1. Condición if, if else, if-elif-else."
   ]
  },
  {
   "cell_type": "code",
   "execution_count": 23,
   "metadata": {},
   "outputs": [
    {
     "name": "stdout",
     "output_type": "stream",
     "text": [
      "10 es mayor que 5\n"
     ]
    }
   ],
   "source": [
    "#Verificamos si es verdadera la condición\n",
    "x = 10\n",
    "if x > 5:\n",
    "    print(f\"{x} es mayor que 5\")\n"
   ]
  },
  {
   "cell_type": "code",
   "execution_count": 24,
   "metadata": {},
   "outputs": [
    {
     "name": "stdout",
     "output_type": "stream",
     "text": [
      "3 no es mayor que 5\n"
     ]
    }
   ],
   "source": [
    "#Ejecuta un bloque de código si la condición es verdadera; de lo contrario, ejecuta otro bloque.\n",
    "x = 3\n",
    "if x > 5:\n",
    "    print(f\"{x} es mayor que 5\")\n",
    "else:\n",
    "    print(f\"{x} no es mayor que 5\")\n"
   ]
  },
  {
   "cell_type": "code",
   "execution_count": 15,
   "metadata": {},
   "outputs": [
    {
     "name": "stdout",
     "output_type": "stream",
     "text": [
      "El número 14 es menor que el número 36\n"
     ]
    }
   ],
   "source": [
    "#Ejemplo con las tres condiciones\n",
    "\n",
    "numero_1 = 14\n",
    "numero_2 = 36\n",
    "\n",
    "if numero_1 > numero_2:\n",
    "    print(f\"El número {numero_1} es mayor que el número {numero_2}\")\n",
    "elif numero_1 < numero_2:\n",
    "     print(f\"El número {numero_1} es menor que el número {numero_2}\")\n",
    "else: \n",
    "     print(f\"El número {numero_1} es igual que el número {numero_2}\")\n",
    "    \n"
   ]
  },
  {
   "cell_type": "markdown",
   "metadata": {},
   "source": [
    "## 2. El ciclo for.\n"
   ]
  },
  {
   "cell_type": "code",
   "execution_count": 16,
   "metadata": {},
   "outputs": [
    {
     "name": "stdout",
     "output_type": "stream",
     "text": [
      "12\n",
      "456\n",
      "897\n",
      "1\n",
      "-355\n",
      "75\n"
     ]
    }
   ],
   "source": [
    "## Ejercicio simple, donde se recorre una lista de números y se muestra en consola\n",
    "\n",
    "lista = [12,456,897,1,-355,75]\n",
    "for n in lista:\n",
    "    print(n)"
   ]
  },
  {
   "cell_type": "code",
   "execution_count": 17,
   "metadata": {},
   "outputs": [
    {
     "name": "stdout",
     "output_type": "stream",
     "text": [
      "La suma de los enteros del 1 al 100 es: 5050\n"
     ]
    }
   ],
   "source": [
    "## Ejercicio donde se calcula la suma de los enteros del 1 al 100.\n",
    "\n",
    "#Se inicializa un contador\n",
    "suma = 0\n",
    "\n",
    "for i in range(1,101):\n",
    "    suma += i \n",
    "    \n",
    "print(f\"La suma de los enteros del 1 al 100 es: {suma}\")"
   ]
  },
  {
   "cell_type": "code",
   "execution_count": 20,
   "metadata": {},
   "outputs": [
    {
     "name": "stdout",
     "output_type": "stream",
     "text": [
      "la llave 'nombre' del diccionario contiene lo siguiente: Manuela\n",
      "la llave 'apellido' del diccionario contiene lo siguiente: Botero\n"
     ]
    }
   ],
   "source": [
    "diccionario = {\"nombre\": \"Manuela\", \"apellido\": \"Botero\"}\n",
    "\n",
    "for key in diccionario:\n",
    "    print(f\"la llave '{key}' del diccionario contiene lo siguiente: {diccionario[key]}\")"
   ]
  },
  {
   "cell_type": "markdown",
   "metadata": {},
   "source": [
    "## 3. El ciclo while "
   ]
  },
  {
   "cell_type": "code",
   "execution_count": 21,
   "metadata": {},
   "outputs": [
    {
     "name": "stdout",
     "output_type": "stream",
     "text": [
      "4\n",
      "6\n",
      "8\n",
      "10\n",
      "12\n"
     ]
    }
   ],
   "source": [
    "## Ejemplo donde se muestran los número pares del 2 al 10\n",
    "numero = 2\n",
    "\n",
    "while numero <= 10:\n",
    "    print(numero)\n",
    "    numero += 2\n",
    "    \n"
   ]
  }
 ],
 "metadata": {
  "kernelspec": {
   "display_name": "Python 3",
   "language": "python",
   "name": "python3"
  },
  "language_info": {
   "codemirror_mode": {
    "name": "ipython",
    "version": 3
   },
   "file_extension": ".py",
   "mimetype": "text/x-python",
   "name": "python",
   "nbconvert_exporter": "python",
   "pygments_lexer": "ipython3",
   "version": "3.12.4"
  }
 },
 "nbformat": 4,
 "nbformat_minor": 2
}
