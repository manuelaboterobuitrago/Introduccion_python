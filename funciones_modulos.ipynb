{
 "cells": [
  {
   "cell_type": "markdown",
   "metadata": {},
   "source": [
    "# Funciones\n",
    "Las funciones son porciones de código que nos sirven para modularizar nuestros programas y evitar en muchos casos la repetitividad de código."
   ]
  },
  {
   "cell_type": "code",
   "execution_count": 5,
   "metadata": {},
   "outputs": [
    {
     "name": "stdout",
     "output_type": "stream",
     "text": [
      "Hola Manuela, bienvenida.\n"
     ]
    }
   ],
   "source": [
    "def saluda(nombre):\n",
    "    salida = \"Hola \" + nombre + \", bienvenida.\"\n",
    "    return salida\n",
    "print(saluda(\"Manuela\"))"
   ]
  },
  {
   "cell_type": "code",
   "execution_count": 16,
   "metadata": {},
   "outputs": [
    {
     "name": "stdout",
     "output_type": "stream",
     "text": [
      "El área del triángulo es: 25.0\n"
     ]
    }
   ],
   "source": [
    "def calcula_triangulo(b,h):\n",
    "    area= (b*h)/2\n",
    "    return area\n",
    "\n",
    "print(\"El área del triángulo es:\", calcula_triangulo(10,5))\n"
   ]
  },
  {
   "cell_type": "markdown",
   "metadata": {},
   "source": [
    "# Funciones anónimas\n",
    "Se crean utilizando la palabra clave lambda, estas funciones son pequeñas y se definen en una sola línea."
   ]
  },
  {
   "cell_type": "code",
   "execution_count": 20,
   "metadata": {},
   "outputs": [
    {
     "name": "stdout",
     "output_type": "stream",
     "text": [
      "10000\n"
     ]
    }
   ],
   "source": [
    "# Función lambda con un único argumento: elevar un número al cuadrado\n",
    "cuadrado = lambda x: x ** 2\n",
    "\n",
    "print(cuadrado(100))  \n"
   ]
  },
  {
   "cell_type": "code",
   "execution_count": 18,
   "metadata": {},
   "outputs": [
    {
     "name": "stdout",
     "output_type": "stream",
     "text": [
      "8\n"
     ]
    }
   ],
   "source": [
    "# Función lambda con multiples argumentos: suma dos números \n",
    "suma = lambda x, y: x + y\n",
    "\n",
    "print(suma(3, 5))  \n"
   ]
  },
  {
   "cell_type": "markdown",
   "metadata": {},
   "source": [
    "# Scope\n",
    "Estas variables son accesibles desde cualquier parte del archivo, incluidas las funciones, siempre que no haya una variable local con el mismo nombre."
   ]
  },
  {
   "cell_type": "code",
   "execution_count": 24,
   "metadata": {},
   "outputs": [
    {
     "name": "stdout",
     "output_type": "stream",
     "text": [
      "-54\n"
     ]
    }
   ],
   "source": [
    "def resta (numero_1, numero_2):\n",
    "    resultado = numero_1 - numero_2\n",
    "    return resultado\n",
    "print(resta(13,67))"
   ]
  },
  {
   "cell_type": "markdown",
   "metadata": {},
   "source": [
    "# Docsring\n",
    "Un docstring es una cadena de texto que se utiliza para documentar una función, clase o módulo."
   ]
  },
  {
   "cell_type": "code",
   "execution_count": 25,
   "metadata": {},
   "outputs": [
    {
     "name": "stdout",
     "output_type": "stream",
     "text": [
      "\n",
      "    Esta función toma dos números y retorna su resta.\n",
      "\n",
      "    Parámetros:\n",
      "    numero_1 (int o float): Primer número.\n",
      "    numero_2 (int o float): Segundo número.\n",
      "\n",
      "    Retorna:\n",
      "    int o float: La resta de numero_1 y numero_2.\n",
      "    \n"
     ]
    }
   ],
   "source": [
    "def resta (numero_1, numero_2):\n",
    "    \"\"\"\n",
    "    Esta función toma dos números y retorna su resta.\n",
    "\n",
    "    Parámetros:\n",
    "    numero_1 (int o float): Primer número.\n",
    "    numero_2 (int o float): Segundo número.\n",
    "\n",
    "    Retorna:\n",
    "    int o float: La resta de numero_1 y numero_2.\n",
    "    \"\"\"\n",
    "    return numero_1- numero_2\n",
    "\n",
    "# Accediendo al docstring\n",
    "print(resta.__doc__)\n"
   ]
  },
  {
   "cell_type": "markdown",
   "metadata": {},
   "source": [
    "# Modulos e importaciones\n",
    "Los módulos son archivos que contienen definiciones y declaraciones de variables, funciones y clases. Se puede importar y reutilizar estas definiciones en otros archivos de Python, lo que permite dividir el código en diferentes archivos y reutilizarlo de manera eficiente."
   ]
  },
  {
   "cell_type": "code",
   "execution_count": 3,
   "metadata": {},
   "outputs": [
    {
     "name": "stdout",
     "output_type": "stream",
     "text": [
      "2.772588722239781\n"
     ]
    }
   ],
   "source": [
    "## Se importa el módulo math\n",
    "import math\n",
    "# Usando funciones del módulo math\n",
    "print(math.log(16))"
   ]
  },
  {
   "cell_type": "code",
   "execution_count": 4,
   "metadata": {},
   "outputs": [
    {
     "name": "stdout",
     "output_type": "stream",
     "text": [
      "625.0\n"
     ]
    }
   ],
   "source": [
    "## Importando partes específicas del módulo \n",
    "from math import pow\n",
    "\n",
    "print(pow(25,2))  \n"
   ]
  }
 ],
 "metadata": {
  "kernelspec": {
   "display_name": "Python 3",
   "language": "python",
   "name": "python3"
  },
  "language_info": {
   "codemirror_mode": {
    "name": "ipython",
    "version": 3
   },
   "file_extension": ".py",
   "mimetype": "text/x-python",
   "name": "python",
   "nbconvert_exporter": "python",
   "pygments_lexer": "ipython3",
   "version": "3.12.4"
  }
 },
 "nbformat": 4,
 "nbformat_minor": 2
}
