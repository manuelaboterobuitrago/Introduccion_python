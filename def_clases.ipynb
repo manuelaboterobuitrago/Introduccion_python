{
 "cells": [
  {
   "cell_type": "markdown",
   "metadata": {},
   "source": [
    "# Clases, objetos, atributos y métodos\n",
    "Ahora, introduciremos la programación orientada a objetos, un enfoque que permite organizar el código en clases y objetos. Este método facilita la creación de programas más estructurados y reutilizables.\n",
    "\n",
    "## 1. Clases \n",
    "Una clase es una plantilla para crear objetos (como los planos para construir una casa). Esta define variables y todas las distintas funcionalidades asociadas al objeto que describen."
   ]
  },
  {
   "cell_type": "code",
   "execution_count": 2,
   "metadata": {},
   "outputs": [],
   "source": [
    "#La definición más básica de una clase es la siguiente\n",
    "class Estudiante:\n",
    "    pass\n"
   ]
  },
  {
   "cell_type": "markdown",
   "metadata": {},
   "source": [
    "## 2. Objetos\n",
    "Un objeto es una instancia de una clase. Es una entidad que tiene un estado (atributos) y un comportamiento (métodos) definidos por su clase."
   ]
  },
  {
   "cell_type": "code",
   "execution_count": 4,
   "metadata": {},
   "outputs": [],
   "source": [
    "estudiante_1 = Estudiante()\n"
   ]
  },
  {
   "cell_type": "markdown",
   "metadata": {},
   "source": [
    "## 3. Atributos\n",
    "Los atributos son variables que pertenecen a una clase u objeto. Representan el estado o las propiedades del objeto."
   ]
  },
  {
   "cell_type": "code",
   "execution_count": 14,
   "metadata": {},
   "outputs": [],
   "source": [
    "# Así se define los atributos en una clase\n",
    "class Estudiante:\n",
    "    def __init__(self, nombre, semestre, estrato):\n",
    "        self.nombre = nombre\n",
    "        self.semestre = semestre\n",
    "        self.estrato = estrato \n",
    "        \n"
   ]
  },
  {
   "cell_type": "code",
   "execution_count": 19,
   "metadata": {},
   "outputs": [
    {
     "name": "stdout",
     "output_type": "stream",
     "text": [
      "Manuela\n"
     ]
    }
   ],
   "source": [
    "# Acceso a los atributos \n",
    "estudiante_1 = Estudiante('Manuela', 'quinto', '3')\n",
    "print(estudiante_1.nombre)"
   ]
  },
  {
   "cell_type": "markdown",
   "metadata": {},
   "source": [
    "## 4. Métodos \n",
    "Los métodos son funciones definidas dentro de una clase, que describen el comportamiento de los objetos de esa clase. Los métodos pueden modificar los atributos del objeto o realizar otras acciones.\n"
   ]
  },
  {
   "cell_type": "code",
   "execution_count": 23,
   "metadata": {},
   "outputs": [
    {
     "name": "stdout",
     "output_type": "stream",
     "text": [
      "Hola Manuela, estas en el  quinto semestre y en la base de datos tienes Estrato 3\n"
     ]
    }
   ],
   "source": [
    "##En este punto, se consolidan todos los pasos para visualizar la clase, los objetos, los atributos y los métodos.\n",
    "class Estudiante:\n",
    "    def __init__(self, nombre, semestre, estrato):\n",
    "        self.nombre = nombre\n",
    "        self.semestre = semestre\n",
    "        self.estrato = estrato\n",
    "    \n",
    "    def informar(self):\n",
    "        return f\"Hola {self.nombre}, estas en el  {self.semestre} y en la base de datos tienes {self.estrato}\"\n",
    "    \n",
    "    \n",
    "estudiante_1 = Estudiante('Manuela', 'quinto semestre', 'Estrato 3')\n",
    "print(estudiante_1.informar())"
   ]
  }
 ],
 "metadata": {
  "kernelspec": {
   "display_name": "Python 3",
   "language": "python",
   "name": "python3"
  },
  "language_info": {
   "codemirror_mode": {
    "name": "ipython",
    "version": 3
   },
   "file_extension": ".py",
   "mimetype": "text/x-python",
   "name": "python",
   "nbconvert_exporter": "python",
   "pygments_lexer": "ipython3",
   "version": "3.12.4"
  }
 },
 "nbformat": 4,
 "nbformat_minor": 2
}
