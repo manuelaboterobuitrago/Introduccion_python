{
 "cells": [
  {
   "cell_type": "markdown",
   "metadata": {},
   "source": [
    "# Mis primero pasos en python.\n",
    "Este tutorial tiene como objetivo informar al lector sobre los conceptos básicos y las funcionalidades del lenguaje de programación Python y su entorno. Se asume que el lector ya tiene Python instalado en su computadora. En esta primera sección, se presentarán los principales tipos de datos disponibles en el lenguaje.\n",
    "\n",
    "## Uso de carácteres básico\n",
    "Entre los caracteres básicos que se pueden utilizar en Python están el símbolo # (numeral) y el signo = (igual). El # se utiliza para agregar comentarios en una línea de código, mientras que el = se usa para asignar valores a una variable.\n",
    "\n",
    "### Ejemplo\n"
   ]
  },
  {
   "cell_type": "code",
   "execution_count": 1,
   "metadata": {},
   "outputs": [
    {
     "name": "stdout",
     "output_type": "stream",
     "text": [
      "1.34\n"
     ]
    }
   ],
   "source": [
    "## Este es un primer comentario\n",
    "# De esta manera de asigna valor a una variable\n",
    "number =  1 \n",
    "num= 1.34\n",
    "print(num)\n",
    "\n"
   ]
  },
  {
   "cell_type": "markdown",
   "metadata": {},
   "source": [
    "Note que si la variable no está definida (es decir, no tiene ningún valor asignado), se producirá un error. "
   ]
  },
  {
   "cell_type": "code",
   "execution_count": 2,
   "metadata": {},
   "outputs": [
    {
     "ename": "NameError",
     "evalue": "name 'var' is not defined",
     "output_type": "error",
     "traceback": [
      "\u001b[1;31m---------------------------------------------------------------------------\u001b[0m",
      "\u001b[1;31mNameError\u001b[0m                                 Traceback (most recent call last)",
      "Cell \u001b[1;32mIn[2], line 1\u001b[0m\n\u001b[1;32m----> 1\u001b[0m \u001b[43mvar\u001b[49m\n\u001b[0;32m      2\u001b[0m \u001b[38;5;28mprint\u001b[39m(var)\n",
      "\u001b[1;31mNameError\u001b[0m: name 'var' is not defined"
     ]
    }
   ],
   "source": [
    "var\n",
    "print(var)"
   ]
  },
  {
   "cell_type": "markdown",
   "metadata": {},
   "source": [
    "# Los tipos de datos\n",
    "Los números enteros (por ejemplo, 2, 4, 20) son de tipo `int`, mientras que aquellos con parte fraccionaria (como 5.0, 1.6) pertenecen al tipo `float`. Python también permite manipular texto mediante el tipo `str`, conocido también como cadenas de caracteres. Además, existe el tipo de dato booleano, que puede ser `True` o `False`, representado por el tipo `bool`.\n",
    "Con la función type, se verificará el tipo de dato. \n",
    "### Ejemplo"
   ]
  },
  {
   "cell_type": "code",
   "execution_count": 6,
   "metadata": {},
   "outputs": [
    {
     "name": "stdout",
     "output_type": "stream",
     "text": [
      "<class 'int'>\n",
      "<class 'float'>\n",
      "<class 'str'>\n",
      "<class 'bool'>\n"
     ]
    }
   ],
   "source": [
    "entero_1= 2\n",
    "fraccionario_1= 1.55\n",
    "string_1= \"Hola Mundo\"\n",
    "casa = True\n",
    "print(type(entero_1))\n",
    "print(type( fraccionario_1))\n",
    "print(type(string_1))\n",
    "print(type(casa))"
   ]
  },
  {
   "cell_type": "markdown",
   "metadata": {},
   "source": [
    "Al ejecutar el código anterior, podemos verificar el tipo de dato de cada valor y confirmar que corresponde al contenido almacenado en su interior."
   ]
  },
  {
   "cell_type": "markdown",
   "metadata": {},
   "source": [
    "# Conversión de tipos de datos\n",
    "La conversión de tipos de datos es una operación que permite transformar datos de un tipo a otro. Esta capacidad permite manipular y utilizar datos de diferentes formatos y tipos en tus aplicaciones."
   ]
  },
  {
   "cell_type": "code",
   "execution_count": 9,
   "metadata": {},
   "outputs": [
    {
     "name": "stdout",
     "output_type": "stream",
     "text": [
      "1233\n",
      "56.0\n",
      "112\n",
      "456\n"
     ]
    }
   ],
   "source": [
    "# Conversión de cadena a entero\n",
    "num_str = \"1233\"\n",
    "num_entero = int(num_str)\n",
    "print(num_entero) \n",
    "\n",
    "# Conversión de entero a flotante\n",
    "num = 56\n",
    "num_float = float(num)\n",
    "print(num_float)  \n",
    "\n",
    "# Conversión de flotante a entero\n",
    "num_f = 112.897\n",
    "num_int = int(num_f)\n",
    "print(num_int)  \n",
    "\n",
    "# Conversión de número a cadena\n",
    "num_to_str = str(456)\n",
    "print(num_to_str)  \n"
   ]
  }
 ],
 "metadata": {
  "kernelspec": {
   "display_name": "Python 3",
   "language": "python",
   "name": "python3"
  },
  "language_info": {
   "codemirror_mode": {
    "name": "ipython",
    "version": 3
   },
   "file_extension": ".py",
   "mimetype": "text/x-python",
   "name": "python",
   "nbconvert_exporter": "python",
   "pygments_lexer": "ipython3",
   "version": "3.12.4"
  }
 },
 "nbformat": 4,
 "nbformat_minor": 2
}
